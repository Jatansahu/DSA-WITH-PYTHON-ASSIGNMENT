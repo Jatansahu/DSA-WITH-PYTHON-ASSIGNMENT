{
  "nbformat": 4,
  "nbformat_minor": 0,
  "metadata": {
    "colab": {
      "provenance": []
    },
    "kernelspec": {
      "name": "python3",
      "display_name": "Python 3"
    },
    "language_info": {
      "name": "python"
    }
  },
  "cells": [
    {
      "cell_type": "markdown",
      "source": [
        "**Assignment No. 8**\n",
        "**ID-202218061**\n",
        "**NAME-JATAN SAHU**\n",
        "\n",
        "Direct Addressing, Division, and\n",
        "Multiplicative hashing\n",
        "\n",
        "Implement the dictionary functions using direct addressing, division and\n",
        "multiplicative hashing."
      ],
      "metadata": {
        "id": "jaVDmTtvPLXL"
      }
    },
    {
      "cell_type": "code",
      "source": [
        "class DirectAddressing:\n",
        "\n",
        "    def __init__(self,arr):\n",
        "        self.arr = arr\n",
        "\n",
        "    def traverse(self):\n",
        "        print(\"\\n\")\n",
        "        for i in self.arr:\n",
        "            print(i, end=' ')\n",
        "\n",
        "    def search(self,k):\n",
        "        print (self.arr[k])\n",
        "\n",
        "    def insert(self,x):\n",
        "        self.arr[x] = x\n",
        "        \n",
        "\n",
        "    def delete(self,x):\n",
        "        self.arr[x] = None"
      ],
      "metadata": {
        "id": "v1VsNbxSZ7-b"
      },
      "execution_count": null,
      "outputs": []
    },
    {
      "cell_type": "code",
      "source": [
        "l = [1, 20, 15, 1, 6, 10, 13, 12, 6, 3]\n",
        "\n",
        "arr=[]\n",
        "for i in range(max(l)+1):\n",
        "    arr.append(None)\n",
        "\n",
        "\n",
        "DA = DirectAddressing(arr)\n",
        "\n",
        "DA.traverse()\n",
        "for i in l:\n",
        "    DA.insert(i)\n",
        "DA.traverse()\n",
        "print('\\n\\nsearch result: ')\n",
        "DA.search(10)\n",
        "DA.delete(12)\n",
        "DA.traverse()"
      ],
      "metadata": {
        "colab": {
          "base_uri": "https://localhost:8080/"
        },
        "id": "zLcNcm70zarC",
        "outputId": "fe66b439-cbc4-4796-bc9a-670d662fc294"
      },
      "execution_count": null,
      "outputs": [
        {
          "output_type": "stream",
          "name": "stdout",
          "text": [
            "\n",
            "\n",
            "None None None None None None None None None None None None None None None None None None None None None \n",
            "\n",
            "None 1 None 3 None None 6 None None None 10 None 12 13 None 15 None None None None 20 \n",
            "\n",
            "search result: \n",
            "10\n",
            "\n",
            "\n",
            "None 1 None 3 None None 6 None None None 10 None None 13 None 15 None None None None 20 "
          ]
        }
      ]
    },
    {
      "cell_type": "code",
      "source": [
        "class Division_hashing:\n",
        "\n",
        "    def __init__(self,arr):\n",
        "        self.arr = arr\n",
        "\n",
        "    def h(self,k):\n",
        "        return k % len(self.arr)\n",
        "\n",
        "    def traverse(self):\n",
        "        print(\"\\n\")\n",
        "        for i in self.arr:\n",
        "            print(i, end=' ')\n",
        "\n",
        "    def search(self,x):\n",
        "        print (self.h(x))\n",
        "\n",
        "    def insert(self,x):\n",
        "        self.arr[self.h(x)] = x\n",
        "\n",
        "    def delete(self,x):\n",
        "        self.arr[self.h(x)] = None\n"
      ],
      "metadata": {
        "id": "58Ji_a4hzgKN"
      },
      "execution_count": null,
      "outputs": []
    },
    {
      "cell_type": "code",
      "source": [
        "l = [690, 1439, 1636, 481, 1855, 752, 1743, 97, 1164, 1988]\n",
        "\n",
        "arr=[]\n",
        "for i in range(len(l)):\n",
        "    arr.append(None)\n",
        "\n",
        "DivH = Division_hashing(arr)\n",
        "\n",
        "DivH.traverse()\n",
        "for i in l:\n",
        "    DivH.insert(i)\n",
        "DivH.traverse()\n",
        "print('\\n\\nsearch result: ')\n",
        "DivH.search(97)\n",
        "DivH.delete(97)\n",
        "DivH.traverse()"
      ],
      "metadata": {
        "colab": {
          "base_uri": "https://localhost:8080/"
        },
        "id": "nBX3qc9z0QAs",
        "outputId": "02fdbb8f-bd7b-4d67-90d0-f6c4a9119287"
      },
      "execution_count": null,
      "outputs": [
        {
          "output_type": "stream",
          "name": "stdout",
          "text": [
            "\n",
            "\n",
            "None None None None None None None None None None \n",
            "\n",
            "690 481 752 1743 1164 1855 1636 97 1988 1439 \n",
            "\n",
            "search result: \n",
            "7\n",
            "\n",
            "\n",
            "690 481 752 1743 1164 1855 1636 None 1988 1439 "
          ]
        }
      ]
    },
    {
      "cell_type": "code",
      "source": [
        "class Multiplicative_hashing:\n",
        "\n",
        "    def __init__(self,arr):\n",
        "        self.arr = arr\n",
        "\n",
        "    def h(self,x):\n",
        "        return int((len(self.arr)*((x * 0.618033)%1))-((len(self.arr)*((x * 0.618033)%1))%1))\n",
        "\n",
        "    def traverse(self):\n",
        "        print(\"\\n\")\n",
        "        for i in self.arr:\n",
        "            print(i, end=' ')\n",
        "\n",
        "    def search(self,x):\n",
        "        print (self.h(x))\n",
        "\n",
        "    def insert(self,x):\n",
        "        self.arr[self.h(x)] = x\n",
        "\n",
        "    def delete(self,x):\n",
        "        self.arr[self.h(x)] = None"
      ],
      "metadata": {
        "id": "xQgLoPCp0ZWJ"
      },
      "execution_count": null,
      "outputs": []
    },
    {
      "cell_type": "code",
      "source": [
        "l = [117,2,3, 933, 1315, 450, 1008, 26, 59, 1847]\n",
        "\n",
        "arr=[]\n",
        "for i in range(len(l)):\n",
        "    arr.append(None)\n",
        "\n",
        "MulH = Multiplicative_hashing(arr)\n",
        "\n",
        "MulH.traverse()\n",
        "for i in l:\n",
        "    MulH.insert(i)\n",
        "MulH.traverse()\n",
        "print('\\n\\nsearch result: ')\n",
        "MulH.search(450)\n",
        "MulH.delete(450)\n",
        "MulH.traverse()"
      ],
      "metadata": {
        "colab": {
          "base_uri": "https://localhost:8080/"
        },
        "id": "0_hGJU6G0bDH",
        "outputId": "5de0d4e4-ea07-41f1-8aa6-aa323ff90a15"
      },
      "execution_count": null,
      "outputs": [
        {
          "output_type": "stream",
          "name": "stdout",
          "text": [
            "\n",
            "\n",
            "None None None None None None None None None None \n",
            "\n",
            "26 450 2 117 59 1847 933 1315 3 1008 \n",
            "\n",
            "search result: \n",
            "1\n",
            "\n",
            "\n",
            "26 None 2 117 59 1847 933 1315 3 1008 "
          ]
        }
      ]
    },
    {
      "cell_type": "code",
      "source": [],
      "metadata": {
        "id": "qB4p9wrnPLEf"
      },
      "execution_count": null,
      "outputs": []
    },
    {
      "cell_type": "code",
      "execution_count": null,
      "metadata": {
        "id": "sn8sEYnMO9w_"
      },
      "outputs": [],
      "source": []
    }
  ]
}