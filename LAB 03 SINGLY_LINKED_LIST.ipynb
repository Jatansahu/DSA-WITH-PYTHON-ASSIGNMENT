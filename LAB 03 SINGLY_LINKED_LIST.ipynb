{
  "nbformat": 4,
  "nbformat_minor": 0,
  "metadata": {
    "colab": {
      "provenance": []
    },
    "kernelspec": {
      "name": "python3",
      "display_name": "Python 3"
    },
    "language_info": {
      "name": "python"
    }
  },
  "cells": [
    {
      "cell_type": "markdown",
      "source": [
        "**NAME- JATAN SAHU**\n",
        "\n",
        "**STUDENT ID - 202218061**\n",
        "\n",
        "**ASSIGNMENT-3**\n",
        "\n",
        "\n"
      ],
      "metadata": {
        "id": "y47e_R0Qtrxm"
      }
    },
    {
      "cell_type": "markdown",
      "source": [
        "• Write a program for singly linked list. Write all it functionality.\n",
        "Traverse, insert at beginning, insert at last, insert at some position,\n",
        "delete at beginning, delete at last, delete at some position."
      ],
      "metadata": {
        "id": "fRMdiPHZtplv"
      }
    },
    {
      "cell_type": "code",
      "source": [
        "class Node:\n",
        "\n",
        "\tdef __init__(self, data):\n",
        "\t\tself.data = data\n",
        "\t\tself.next = None\n",
        "    \n",
        "\n",
        "class Link:\n",
        "\t\n",
        "  def __init__(self):\n",
        "\t  self.head = None\n",
        "\n",
        "\n",
        "  def insertAtLast(self, new_data):\n",
        "    new_node = Node(new_data)\n",
        "    \n",
        "    if self.head == None:\n",
        "      new_node.next = self.head\n",
        "      self.head = new_node\n",
        "      return\n",
        "\n",
        "    temp = self.head\n",
        "\n",
        "    while temp.next:\n",
        "      temp = temp.next\n",
        "\n",
        "    temp.next = new_node\n",
        "    new_node.next = None\n",
        "\n",
        "  \n",
        "  def insertAtFirst(self,new_data):\n",
        "    new_node = Node(new_data)\n",
        "    new_node.next = self.head\n",
        "    self.head = new_node\n",
        "\n",
        "\n",
        "  def insertAt(self,new_data,pos):\n",
        "    new_node = Node(new_data)\n",
        "    \n",
        "    temp = self.head\n",
        "    prev = None\n",
        "    i=0\n",
        "    while i<pos-1 and temp.next:\n",
        "      prev = temp\n",
        "      temp = temp.next\n",
        "      i = i+1\n",
        "\n",
        "    new_node.next = prev.next\n",
        "    prev.next = new_node\n",
        "    \n",
        "\n",
        "  def deleteAtFirst(self):\n",
        "    temp = self.head.next\n",
        "    self.head = temp\n",
        "\n",
        "  \n",
        "  def deleteAtLast(self):\n",
        "    prev = temp = self.head\n",
        "    \n",
        "    while temp.next:\n",
        "      prev = temp\n",
        "      temp = temp.next\n",
        "\n",
        "    prev.next = temp.next\n",
        "\n",
        "\n",
        "  def deleteAt(self,pos):\n",
        "    i = 0\n",
        "    prev = temp = self.head\n",
        "\n",
        "    while temp.next and i<pos-1:\n",
        "      prev = temp\n",
        "      temp = temp.next\n",
        "      i = i+1\n",
        "\n",
        "    prev.next = temp.next\n",
        "\n",
        "\n",
        "  def print(self):\n",
        "    curr = self.head\n",
        "    while curr:\n",
        "      print(curr.data)\n",
        "      curr = curr.next"
      ],
      "metadata": {
        "id": "JBM4Lr590F21"
      },
      "execution_count": null,
      "outputs": []
    },
    {
      "cell_type": "code",
      "source": [
        "var = Link()"
      ],
      "metadata": {
        "id": "ZKn0Ucoy1PlA"
      },
      "execution_count": null,
      "outputs": []
    },
    {
      "cell_type": "code",
      "source": [
        "var.insertAtLast(12)\n"
      ],
      "metadata": {
        "id": "Cix6NZKJA-bs"
      },
      "execution_count": null,
      "outputs": []
    },
    {
      "cell_type": "code",
      "source": [
        "var.insertAtLast(52)"
      ],
      "metadata": {
        "id": "9ioB11TYzHFd"
      },
      "execution_count": null,
      "outputs": []
    },
    {
      "cell_type": "code",
      "source": [
        "var.insertAtLast(35)"
      ],
      "metadata": {
        "id": "qszot0KNzLBn"
      },
      "execution_count": null,
      "outputs": []
    },
    {
      "cell_type": "code",
      "source": [
        "var.print()"
      ],
      "metadata": {
        "colab": {
          "base_uri": "https://localhost:8080/"
        },
        "id": "tfXUUs59t_qe",
        "outputId": "b3428b12-b2e7-4f5a-d670-fd461d843b87"
      },
      "execution_count": null,
      "outputs": [
        {
          "output_type": "stream",
          "name": "stdout",
          "text": [
            "12\n",
            "52\n",
            "35\n"
          ]
        }
      ]
    },
    {
      "cell_type": "code",
      "source": [
        "var.insertAtFirst(28)"
      ],
      "metadata": {
        "id": "vynmLGp8uMbx"
      },
      "execution_count": null,
      "outputs": []
    },
    {
      "cell_type": "code",
      "source": [
        "var.insertAtFirst(30)"
      ],
      "metadata": {
        "id": "0j-KJEnzu9mf"
      },
      "execution_count": null,
      "outputs": []
    },
    {
      "cell_type": "code",
      "source": [
        "var.insertAtFirst(56)"
      ],
      "metadata": {
        "id": "VS9TRLoIzSQF"
      },
      "execution_count": null,
      "outputs": []
    },
    {
      "cell_type": "code",
      "source": [
        "var.print()"
      ],
      "metadata": {
        "colab": {
          "base_uri": "https://localhost:8080/"
        },
        "id": "OKN1osAvvCCD",
        "outputId": "5600394c-5e97-429c-9b11-c0167f0693b9"
      },
      "execution_count": null,
      "outputs": [
        {
          "output_type": "stream",
          "name": "stdout",
          "text": [
            "56\n",
            "30\n",
            "28\n",
            "12\n",
            "52\n",
            "35\n"
          ]
        }
      ]
    },
    {
      "cell_type": "code",
      "source": [
        "var.insertAt(32,2)"
      ],
      "metadata": {
        "id": "1ZODkCN1vKw_"
      },
      "execution_count": null,
      "outputs": []
    },
    {
      "cell_type": "code",
      "source": [
        "var.insertAt(32,3)"
      ],
      "metadata": {
        "id": "xpTuyjs0zZar"
      },
      "execution_count": null,
      "outputs": []
    },
    {
      "cell_type": "code",
      "source": [
        "var.print()"
      ],
      "metadata": {
        "colab": {
          "base_uri": "https://localhost:8080/"
        },
        "id": "O0gEESYawbgY",
        "outputId": "ee92a5b6-e546-4d64-8be5-efe20918030e"
      },
      "execution_count": null,
      "outputs": [
        {
          "output_type": "stream",
          "name": "stdout",
          "text": [
            "56\n",
            "32\n",
            "32\n",
            "30\n",
            "28\n",
            "12\n",
            "52\n",
            "35\n"
          ]
        }
      ]
    },
    {
      "cell_type": "code",
      "source": [
        "var.deleteAtFirst()"
      ],
      "metadata": {
        "id": "Aj29X38wyZd0"
      },
      "execution_count": null,
      "outputs": []
    },
    {
      "cell_type": "code",
      "source": [
        "var.print()"
      ],
      "metadata": {
        "colab": {
          "base_uri": "https://localhost:8080/"
        },
        "id": "91po6GKZznxM",
        "outputId": "6dfa6ee6-1f78-41ce-87c3-f471ee22266c"
      },
      "execution_count": null,
      "outputs": [
        {
          "output_type": "stream",
          "name": "stdout",
          "text": [
            "32\n",
            "32\n",
            "30\n",
            "28\n",
            "12\n",
            "52\n",
            "35\n"
          ]
        }
      ]
    },
    {
      "cell_type": "code",
      "source": [
        "var.deleteAtLast()"
      ],
      "metadata": {
        "id": "N_IcbvkcykFW"
      },
      "execution_count": null,
      "outputs": []
    },
    {
      "cell_type": "code",
      "source": [
        "var.print()"
      ],
      "metadata": {
        "colab": {
          "base_uri": "https://localhost:8080/"
        },
        "id": "LImkcQyRzv-e",
        "outputId": "a026ce4d-2354-4ee0-a583-720f897c17ba"
      },
      "execution_count": null,
      "outputs": [
        {
          "output_type": "stream",
          "name": "stdout",
          "text": [
            "32\n",
            "32\n",
            "30\n",
            "28\n",
            "12\n",
            "52\n"
          ]
        }
      ]
    },
    {
      "cell_type": "code",
      "source": [
        "var.deleteAt(2)"
      ],
      "metadata": {
        "id": "IyrfQDBSzx9N"
      },
      "execution_count": null,
      "outputs": []
    },
    {
      "cell_type": "code",
      "source": [
        "var.print()"
      ],
      "metadata": {
        "id": "gGSe1PXQ0IcJ",
        "outputId": "02b2ae6f-e984-4732-d76c-cce4869030fe",
        "colab": {
          "base_uri": "https://localhost:8080/"
        }
      },
      "execution_count": null,
      "outputs": [
        {
          "output_type": "stream",
          "name": "stdout",
          "text": [
            "32\n",
            "30\n",
            "28\n",
            "12\n",
            "52\n"
          ]
        }
      ]
    },
    {
      "cell_type": "code",
      "source": [],
      "metadata": {
        "id": "VUW2ROTJ0J3t"
      },
      "execution_count": null,
      "outputs": []
    }
  ]
}