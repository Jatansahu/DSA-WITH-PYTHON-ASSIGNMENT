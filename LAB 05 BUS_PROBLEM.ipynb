{
  "nbformat": 4,
  "nbformat_minor": 0,
  "metadata": {
    "colab": {
      "provenance": []
    },
    "kernelspec": {
      "name": "python3",
      "display_name": "Python 3"
    },
    "language_info": {
      "name": "python"
    }
  },
  "cells": [
    {
      "cell_type": "markdown",
      "source": [
        "**NAME - JATAN SAHU**\n",
        "<BR>\n",
        "**STUDENT ID - 202218061**\n",
        "<BR>\n",
        "**DSA ASSIGNMENT NO. - 05**"
      ],
      "metadata": {
        "id": "T5EVUwG068_Q"
      }
    },
    {
      "cell_type": "markdown",
      "source": [
        "QUESTION\n",
        "\n",
        "Write a program for te following program.\n",
        "There are a number of busses stayed in a bus stand. The buses has a\n",
        "maximum seat capacity, say N. People in groups come for a bus trip. Each\n",
        "group has a name and a member-count (number of people in that group).\n",
        "The member-count can be at most N. Each group either completely fit in a\n",
        "bus or they do not ride the bus. Whichever group comes first they ride first.\n",
        "A bus must be as full as possible for the ride.\n",
        "Input Format:\n",
        "\n",
        "N\n",
        "\n",
        "”abc” n1\n",
        "\n",
        "”def” n2\n",
        "\n",
        "- - -\n",
        "\n",
        "”xyz” nt\n",
        "\n",
        "The first line is the number of seats in the bus.\n",
        "\n",
        "Next line onwards, name of the group and member-count\n",
        "\n",
        "Output Format:\n",
        "\n",
        "Bus 1 ”abc” ”pqr” ”lmn”\n",
        "\n",
        "Bus 2 ”def” ”ghi”\n",
        "\n",
        "- - -\n",
        "\n",
        "X\n",
        "\n",
        "Y\n",
        "\n",
        "Each bus containing the groups\n",
        "\n",
        "Total number of members\n",
        "\n",
        "Total number of buses"
      ],
      "metadata": {
        "id": "MNVWpqt27OUA"
      }
    },
    {
      "cell_type": "code",
      "execution_count": null,
      "metadata": {
        "colab": {
          "base_uri": "https://localhost:8080/"
        },
        "id": "9APUr4dY622C",
        "outputId": "bf3e16ce-8282-46c2-dd27-591c1de21bab"
      },
      "outputs": [
        {
          "output_type": "stream",
          "name": "stdout",
          "text": [
            "ENTER BUS CAPACITY : 15\n",
            "ENTER FAMILY  NAME: A\n",
            "ENTER FAMILY SIZE: 5\n",
            "Want to continue? (Y/N): Y\n",
            "ENTER FAMILY  NAME: B\n",
            "ENTER FAMILY SIZE: 3\n",
            "Want to continue? (Y/N): Y\n",
            "ENTER FAMILY  NAME: C\n",
            "ENTER FAMILY SIZE: 6\n",
            "Want to continue? (Y/N): Y\n",
            "ENTER FAMILY  NAME: D\n",
            "ENTER FAMILY SIZE: 12\n",
            "Want to continue? (Y/N): Y\n",
            "ENTER FAMILY  NAME: E\n",
            "ENTER FAMILY SIZE: 5\n",
            "Want to continue? (Y/N): Y\n",
            "ENTER FAMILY  NAME: W\n",
            "ENTER FAMILY SIZE: 13\n",
            "Want to continue? (Y/N): N\n",
            "\n",
            "|  Allotment  |\n",
            "Bus 1 : A B C\n",
            "Bus 2 : D\n",
            "Bus 3 : E\n",
            "Bus 4 : W\n",
            "Total members: 44\n",
            "Total buses: 4\n"
          ]
        }
      ],
      "source": [
        "class Buses:\n",
        "    def __init__(self):\n",
        "        self.count = 0\n",
        "        self.buses = {}\n",
        "        self.members = 0\n",
        "    \n",
        "    def placeGroups(self, groups):\n",
        "        while len(groups) > 0:\n",
        "            g = groups[-1]\n",
        "\n",
        "            if g[1] > 0:\n",
        "                flag = True\n",
        "                for key, value in self.buses.items():\n",
        "\n",
        "                    seats_left = value[1]\n",
        "                    if g[1] <= seats_left:\n",
        "                        value[0].append(g[0])  \n",
        "                        value[1] = seats_left - g[1]\n",
        "                        self.members += g[1]\n",
        "                        groups.pop()\n",
        "                        flag = False\n",
        "                        break\n",
        "\n",
        "                if flag:\n",
        "                    self.buses[self.count + 1] = [[g[0]], N - g[1]]\n",
        "                    groups.pop()\n",
        "                    self.count += 1\n",
        "                    self.members += g[1]\n",
        "            else:\n",
        "                groups.pop()\n",
        "\n",
        "    def output(self):\n",
        "        print(\"\\n|  Allotment  |\")\n",
        "        for k, v in self.buses.items():\n",
        "            print(\"Bus\", k, \":\", \" \".join(v[0]))\n",
        "        \n",
        "        print(\"Total members:\",self.members)\n",
        "        print(\"Total buses:\",self.count)\n",
        "\n",
        "\n",
        "N = int(input(\"ENTER BUS CAPACITY : \"))\n",
        "choice = \"Y\"\n",
        "lis = []\n",
        "while choice == \"Y\":\n",
        "    name = input(\"ENTER FAMILY  NAME: \")\n",
        "    count = int(input(\"ENTER FAMILY SIZE: \"))\n",
        "    tup = tuple([name, count])\n",
        "    lis.insert(0, tup)\n",
        "    choice = input(\"Want to continue? (Y/N): \")\n",
        "\n",
        "buses = Buses()\n",
        "buses.placeGroups(lis)\n",
        "buses.output()"
      ]
    },
    {
      "cell_type": "code",
      "source": [],
      "metadata": {
        "id": "xPaV4_ao7xza"
      },
      "execution_count": null,
      "outputs": []
    }
  ]
}