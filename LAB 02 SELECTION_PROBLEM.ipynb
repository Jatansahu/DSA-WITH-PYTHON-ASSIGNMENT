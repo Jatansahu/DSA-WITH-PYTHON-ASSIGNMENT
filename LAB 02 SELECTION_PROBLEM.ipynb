{
  "nbformat": 4,
  "nbformat_minor": 0,
  "metadata": {
    "colab": {
      "provenance": []
    },
    "kernelspec": {
      "name": "python3",
      "display_name": "Python 3"
    },
    "language_info": {
      "name": "python"
    }
  },
  "cells": [
    {
      "cell_type": "markdown",
      "source": [
        "**NAME-JATAN SAHU**\n",
        "\n",
        "**STUDENT ID-2218061**\n",
        "\n",
        "**ASSIGNMENT-2**\n",
        "\n",
        "**DSA WITH PYTHON**"
      ],
      "metadata": {
        "id": "trasxEcQ635P"
      }
    },
    {
      "cell_type": "markdown",
      "source": [
        "Write a program for the activity selection problem. Given a set J of n jobs {j1, j2, . . . , jn} where each job ji has start time si and finish time fi. Find a maximum-sized set J0 ⊆ J of mutually non-overlapping jobs. "
      ],
      "metadata": {
        "id": "ksO9rPFu7TTP"
      }
    },
    {
      "cell_type": "code",
      "execution_count": null,
      "metadata": {
        "colab": {
          "base_uri": "https://localhost:8080/"
        },
        "id": "qQxnfD-J6bK8",
        "outputId": "b9682e7c-d6d8-497d-f955-43e134041085"
      },
      "outputs": [
        {
          "output_type": "stream",
          "name": "stdout",
          "text": [
            "Finish time\n",
            "0134"
          ]
        }
      ],
      "source": [
        "# S=[1,3,0,5,8,5]\n",
        "# F=[2,4,6,7,9,9]\n",
        "#Index of thr job that can be scheduled without overlapping\n",
        "def startfinish(s,f):\n",
        "  m=len(f)      #length of m(finish time) is 6\n",
        "  print(\"Finish time\")\n",
        "  i=0            #First index\n",
        "  print(i,end='') #end='' To append space \n",
        "  for  j  in range(1,m):\n",
        "    if(s[j]>=f[i]):\n",
        "      print(j,end='')\n",
        "      i=j\n",
        "s=[1,3,0,5,8,5]\n",
        "f=[2,4,6,7,9,9]\n",
        "startfinish(s,f)  #Calling function"
      ]
    }
  ]
}