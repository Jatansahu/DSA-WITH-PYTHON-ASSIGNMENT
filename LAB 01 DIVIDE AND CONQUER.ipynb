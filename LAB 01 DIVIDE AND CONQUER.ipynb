{
  "nbformat": 4,
  "nbformat_minor": 0,
  "metadata": {
    "colab": {
      "provenance": []
    },
    "kernelspec": {
      "name": "python3",
      "display_name": "Python 3"
    },
    "language_info": {
      "name": "python"
    }
  },
  "cells": [
    {
      "cell_type": "markdown",
      "source": [
        "**NAME-JATAN SAHU**\n",
        "\n",
        "**STUDENT ID- 202218061**\n",
        "\n",
        "**DSA ASSIGNMENT 1**"
      ],
      "metadata": {
        "id": "s-eg1_UQTVkD"
      }
    },
    {
      "cell_type": "code",
      "execution_count": null,
      "metadata": {
        "id": "Gw77GIYpOf2v",
        "colab": {
          "base_uri": "https://localhost:8080/"
        },
        "outputId": "b866ef5f-8e0d-4878-dcd4-006511faec47"
      },
      "outputs": [
        {
          "output_type": "stream",
          "name": "stdout",
          "text": [
            "Enter kth smallest element to find  :3\n",
            "Kth smallest element : 12\n"
          ]
        }
      ],
      "source": [
        "def sorting(arr):  \n",
        "  n = len(arr)\n",
        "  for i in range(n):\n",
        "    for j in range(0, n-i-1):\n",
        "      if arr[j] > arr[j+1]:\n",
        "        arr[j], arr[j+1] = arr[j+1], arr[j]\n",
        "  return arr\n",
        "\n",
        "def ksmall(arr, l, r, k):\n",
        "     \n",
        "      if (k > 0 and k <= r - l + 1):\n",
        "        n = r - l + 1\n",
        "        med = []\n",
        "        i = 0\n",
        "        while (i < n // 5):\n",
        "            med.append(findmed(arr, l + i * 5, 5)) #Calling findmed()\n",
        "            i += 1\n",
        "        if (i * 5 < n):\n",
        "            med.append(findmed(arr, l + i * 5,       #Calling findmed()\n",
        "                                              n % 5))\n",
        "            i += 1\n",
        "\n",
        "        if i == 1:\n",
        "            medOfMed = med[i - 1]\n",
        "        else:\n",
        "            medOfMed = ksmall(med, 0,\n",
        "                                   i - 1, i // 2)\n",
        " \n",
        "        pos = partition(arr, l, r, medOfMed)\n",
        " \n",
        "        if (pos - l == k - 1):\n",
        "            return arr[pos]\n",
        "        if (pos - l > k - 1): \n",
        "            return ksmall(arr, l, pos - 1, k)\n",
        " \n",
        "        return ksmall(arr, pos + 1, r,\n",
        "                           k - pos + l - 1)\n",
        "      return \"invalid\"\n",
        " \n",
        "def swap(arr, a, b):\n",
        "    temp = arr[a]\n",
        "    arr[a] = arr[b]\n",
        "    arr[b] = temp\n",
        " \n",
        "def partition(arr, l, r, x):\n",
        "    for i in range(l, r):\n",
        "        if arr[i] == x:\n",
        "            swap(arr, r, i)\n",
        "            break\n",
        " \n",
        "    x = arr[r]\n",
        "    i = l\n",
        "    for j in range(l, r):\n",
        "        if (arr[j] <= x):\n",
        "            swap(arr, i, j)\n",
        "            i += 1\n",
        "    swap(arr, i, r)\n",
        "    return i\n",
        " \n",
        "def findmed(arr, l, n):\n",
        "    lis = []\n",
        "    for i in range(l, l + n):\n",
        "        lis.append(arr[i])\n",
        "    sorting(arr) #Calling sorting function\n",
        "    return lis[n // 2]\n",
        "\n",
        "if __name__ == '__main__':\n",
        " \n",
        "    arr = [15,56,12,14,13,2,1]\n",
        "    n = len(arr)\n",
        "    k=int(input(\"Enter kth smallest element to find  :\")\n",
        "    print(\"Kth smallest element :\",\n",
        "           ksmall(arr, 0, n - 1, k))\n",
        " "
      ]
    }
  ]
}