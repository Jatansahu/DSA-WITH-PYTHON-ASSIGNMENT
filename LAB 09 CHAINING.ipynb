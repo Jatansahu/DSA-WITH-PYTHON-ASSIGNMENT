{
  "nbformat": 4,
  "nbformat_minor": 0,
  "metadata": {
    "colab": {
      "provenance": []
    },
    "kernelspec": {
      "name": "python3",
      "display_name": "Python 3"
    },
    "language_info": {
      "name": "python"
    }
  },
  "cells": [
    {
      "cell_type": "markdown",
      "source": [
        "**STUDENT ID-202218061**\n",
        "\n",
        "**NAME-JATAN SAHU**\n",
        "\n",
        "**ASSIGNMENT NO 09**\n",
        "\n",
        "**Hashing with chainning and Double hashing**"
      ],
      "metadata": {
        "id": "cAsLtwuD5dDl"
      }
    },
    {
      "cell_type": "markdown",
      "source": [
        "Implement the dictionary functions using hashing with chainning and\n",
        "double hashing methods."
      ],
      "metadata": {
        "id": "4SZsdyvU5aA6"
      }
    },
    {
      "cell_type": "code",
      "execution_count": null,
      "metadata": {
        "id": "xKaBojV84uaD"
      },
      "outputs": [],
      "source": [
        "class Node:\n",
        "  def __init__(self,data):\n",
        "    self.data=data\n",
        "    self.next=None\n",
        "    \n",
        "class Linkedlist:\n",
        "  def __init__(self):\n",
        "    self.head=None\n",
        "    #self.length=0\n",
        "  \n",
        "  def insert_at_last(self,data):\n",
        "    cur=self.head\n",
        "    node=Node(data)\n",
        "    if cur!=None:\n",
        "      while cur.next!=None:\n",
        "        cur=cur.next\n",
        "      cur.next=node\n",
        "    else:\n",
        "      self.head=node\n",
        "    #self.length+=1\n",
        "\n",
        "\n",
        "  def traverse(self):\n",
        "    cur=self.head\n",
        "    while cur:\n",
        "      print(cur.data , end=\" \")\n",
        "      cur=cur.next\n",
        "    print()\n",
        "\n",
        "  def deletevalue(self,x):  #by value\n",
        "    cur=self.head\n",
        "    if cur.data==x:\n",
        "      self.head=cur.next\n",
        "    else:\n",
        "      prev=None\n",
        "      while cur!=None:\n",
        "        if cur.data==x:\n",
        "          prev.next=cur.next\n",
        "          cur.next=None\n",
        "        prev=cur\n",
        "        cur=cur.next\n",
        "\n",
        "  def searchnode(self,ind,x):\n",
        "    cur=self.head\n",
        "    listind=0\n",
        "    while cur!=None:\n",
        "      if x==cur.data:\n",
        "        print(ind ,\"-->\",listind)\n",
        "      cur=cur.next \n",
        "      listind+=1\n",
        "    return False"
      ]
    },
    {
      "cell_type": "code",
      "source": [
        "class chainhashing:\n",
        "  def __init__(self,arr):\n",
        "    self.arr=arr\n",
        "    self.size=len(arr)\n",
        "\n",
        "  def hash(self,x):\n",
        "    return x % self.size\n",
        "\n",
        "  def insert(self,x):\n",
        "      index=self.hash(x)\n",
        "      if self.arr[index] is None:\n",
        "        chain=Linkedlist()\n",
        "        chain.insert_at_last(x)\n",
        "        self.arr[index]=chain\n",
        "      else:\n",
        "        self.arr[index].insert_at_last(x)\n",
        "    \n",
        "  def traverse(self):\n",
        "    for ind ,ele in enumerate(self.arr): #enumerate is used to print index or count value\n",
        "       print(ind,end=\"--->\")\n",
        "       if ele is not None:\n",
        "         ele.traverse()\n",
        "       else:\n",
        "         print(None)\n",
        "    \n",
        "  def delete(self,x): \n",
        "    for ele in self.arr:\n",
        "      if ele is not None:\n",
        "        ele.deletevalue(x)\n",
        "\n",
        "  def search(self,x):\n",
        "    for ind,ele in enumerate(self.arr):\n",
        "      if ele is not None:\n",
        "        if ele.searchnode(ind,x):     #\n",
        "          return\n"
      ],
      "metadata": {
        "id": "nK1qdjYGNjHZ"
      },
      "execution_count": null,
      "outputs": []
    },
    {
      "cell_type": "code",
      "source": [
        "lis=[21,31,22,23,43,55,78,88,95,99]\n",
        "arr=[]\n",
        "for i in lis:\n",
        "  arr.append(None)\n",
        "chain=chainhashing(arr)\n",
        "\n",
        "for ele in lis:\n",
        "  chain.insert(ele)\n",
        "chain.traverse()\n",
        "print()\n",
        "\n",
        "print(\"index of searched element is :\")\n",
        "chain.search(21)\n",
        "print()\n",
        "\n",
        "chain.delete(21)\n",
        "chain.traverse()\n"
      ],
      "metadata": {
        "colab": {
          "base_uri": "https://localhost:8080/"
        },
        "id": "iyec0QAqY7gs",
        "outputId": "57c08257-a1fa-46e1-a976-41b21d3308a2"
      },
      "execution_count": null,
      "outputs": [
        {
          "output_type": "stream",
          "name": "stdout",
          "text": [
            "0--->None\n",
            "1--->21 31 \n",
            "2--->22 \n",
            "3--->23 43 \n",
            "4--->None\n",
            "5--->55 95 \n",
            "6--->None\n",
            "7--->None\n",
            "8--->78 88 \n",
            "9--->99 \n",
            "\n",
            "index of searched element is :\n",
            "1 --> 0\n",
            "\n",
            "0--->None\n",
            "1--->31 \n",
            "2--->22 \n",
            "3--->23 43 \n",
            "4--->None\n",
            "5--->55 95 \n",
            "6--->None\n",
            "7--->None\n",
            "8--->78 88 \n",
            "9--->99 \n"
          ]
        }
      ]
    },
    {
      "cell_type": "markdown",
      "source": [
        "**DOUBLE HASHING**"
      ],
      "metadata": {
        "id": "pPr2qInjPGPs"
      }
    },
    {
      "cell_type": "code",
      "source": [
        "class Doublehash:\n",
        "  def __init__(self,tablesize=9999):\n",
        "    self.tf=tablesize\n",
        "    self.list=[None]*self.tf\n",
        "    self.count=0\n",
        "  def prime(self):  #smaller nearest prime number of table size\n",
        "    for i in range(self.tf-1,1,-1):\n",
        "      flag=False\n",
        "      for j in range(2,i):\n",
        "        if i%j==0:\n",
        "          flag=True\n",
        "          break\n",
        "      if flag==False:\n",
        "        return i \n",
        "    return 3 #default prime        \n",
        "\n",
        "  def h1(self,key):\n",
        "    return key%self.tf\n",
        "\n",
        "  def h2(self,key):\n",
        "    return (self.prime() - ( key % (self.prime())))\n",
        "\n",
        "  def insert(self,key):\n",
        "\n",
        "\n",
        "    if self.list[self.h1(key)]==None:\n",
        "      self.list[self.h1(key)]=self.h1(key)\n",
        "      self.count+=1\n",
        "      print(f\"Entered {key} is in index {self.h1(key)}\")\n",
        "\n",
        "    else :\n",
        "      i=1\n",
        "      flag=False\n",
        "      while not flag :\n",
        "        index=( self.h1(key) + i*(self.h2(key)) )  % self.tf\n",
        "        if self.list[index]==None:\n",
        "          self.list[index]=key\n",
        "          self.count+=1\n",
        "          print(f\"Entered {key}  is in index{index}\" )\n",
        "          break\n",
        "        else:\n",
        "          i+=1\n",
        "      return self.list\n",
        "\n",
        "  def PrintHashList(self):\n",
        "        for i in range(0, len(self.list)):\n",
        "            print(self.list[i])"
      ],
      "metadata": {
        "id": "9vVygq9VQ262"
      },
      "execution_count": null,
      "outputs": []
    },
    {
      "cell_type": "code",
      "source": [
        "tableSize = 5 \n",
        "DHash = Doublehash(tableSize)\n",
        "\n",
        "lis = [4,11, 29, 1, 5]\n",
        "\n",
        "for i in lis:\n",
        "    DHash.insert(i)\n",
        "\n",
        "\n",
        "print('\\n')\n",
        "print(\"The Hash List After Entering Elements\")\n",
        "DHash.PrintHashList() "
      ],
      "metadata": {
        "id": "wh1TSn0yT2j5",
        "outputId": "3de64bfe-feae-4fa0-a33c-cd8a17b1c4c4",
        "colab": {
          "base_uri": "https://localhost:8080/"
        }
      },
      "execution_count": null,
      "outputs": [
        {
          "output_type": "stream",
          "name": "stdout",
          "text": [
            "Entered 4 is in index 4\n",
            "Entered 11 is in index 1\n",
            "Entered 29  is in index0\n",
            "Entered 1  is in index3\n",
            "Entered 5  is in index2\n",
            "\n",
            "\n",
            "The Hash List After Entering Elements\n",
            "29\n",
            "1\n",
            "5\n",
            "1\n",
            "4\n"
          ]
        }
      ]
    }
  ]
}