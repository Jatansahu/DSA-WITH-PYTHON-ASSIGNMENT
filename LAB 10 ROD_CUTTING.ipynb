{
  "nbformat": 4,
  "nbformat_minor": 0,
  "metadata": {
    "colab": {
      "provenance": []
    },
    "kernelspec": {
      "name": "python3",
      "display_name": "Python 3"
    },
    "language_info": {
      "name": "python"
    }
  },
  "cells": [
    {
      "cell_type": "markdown",
      "source": [
        "**ID=202218061**\n",
        "\n",
        "**NAME-JATAN SAHU**\n",
        "\n",
        "**ROD CUTTING PROBLEM** "
      ],
      "metadata": {
        "id": "RrNM_lhnPSEa"
      }
    },
    {
      "cell_type": "markdown",
      "source": [
        "Implement the dynamic programming of the rod cutting problem.\n",
        "Both bottom-up and top-down approaches."
      ],
      "metadata": {
        "id": "DRvsMzefPgem"
      }
    },
    {
      "cell_type": "code",
      "source": [
        "#TOP DOWN APPROACHES "
      ],
      "metadata": {
        "id": "u5EPqkdjYa_S"
      },
      "execution_count": null,
      "outputs": []
    },
    {
      "cell_type": "code",
      "execution_count": null,
      "metadata": {
        "colab": {
          "base_uri": "https://localhost:8080/"
        },
        "id": "f4oysFFsPNg6",
        "outputId": "6ce31254-eec6-4b87-8056-31845e1cf465"
      },
      "outputs": [
        {
          "output_type": "stream",
          "name": "stdout",
          "text": [
            "maximum revenue  10\n"
          ]
        }
      ],
      "source": [
        "def Memorized_rod_cut(p,n):\n",
        "  r=[-9999 for i in range(n+1)]  # For null values\n",
        "  return Memorized_rod_cut_main(p,n,r)\n",
        "\n",
        "def Memorized_rod_cut_main(p,n,r):  #r=array\n",
        "  if r[n]>=0:\n",
        "    return r[n]\n",
        "  if n==0:\n",
        "    temp=0\n",
        "  else:\n",
        "    temp=-9999\n",
        "    for i in range(0,n):\n",
        "      temp=max(temp,p[i]+ Memorized_rod_cut_main(p,n-i-1,r))\n",
        "    r[n]=temp\n",
        "  return temp\n",
        "\n",
        "p=[1,5,8,9]  #price of rod len1=1 , len 2 = 5, len 3=8 ...\n",
        "n=4   #Length of rod \n",
        "print(\"maximum revenue \",Memorized_rod_cut(p,n))\n",
        "\n"
      ]
    },
    {
      "cell_type": "code",
      "source": [
        "#TOP DOWN\n",
        "def Memorized_rod_cut(p,n):\n",
        "  r=[-9999 for i in range(n+1)]\n",
        "  return Memorized_rod_cut_main(p,n,r)\n",
        "\n",
        "def Memorized_rod_cut_main(p,n,r):\n",
        "  if r[n]>=0:\n",
        "    return r[n]\n",
        "\n",
        "  if n==0:\n",
        "    temp=0\n",
        "\n",
        "  else:\n",
        "    temp=-9999\n",
        "    for i in range(0,n):\n",
        "      temp=max(temp,p[i]+Memorized_rod_cut_main(p,n-i-1,r))   #p[i]+n-i -->0+len(4),len(1)+len(3), len(2)+len(2), len(3)+len(1)\n",
        "    r[n]=temp\n",
        "  return temp\n",
        "\n",
        "p=[1,5,8,9]  #price\n",
        "n=len(p)     #lengthof rod\n",
        "print(Memorized_rod_cut(p,n))"
      ],
      "metadata": {
        "colab": {
          "base_uri": "https://localhost:8080/"
        },
        "id": "en99YaqbYbSh",
        "outputId": "8ae81cd3-fdb4-4981-dab6-c13275cfc3aa"
      },
      "execution_count": null,
      "outputs": [
        {
          "output_type": "stream",
          "name": "stdout",
          "text": [
            "10\n"
          ]
        }
      ]
    },
    {
      "cell_type": "code",
      "source": [
        "#BOTTOM UP APPROACH "
      ],
      "metadata": {
        "id": "dyias_g7YiOy"
      },
      "execution_count": null,
      "outputs": []
    },
    {
      "cell_type": "code",
      "source": [
        "def bottom_up_rod_cut(p,n):\n",
        "  #r=[-9999 for i in range(n+1)]\n",
        "  r=[0]*(n+1)\n",
        "  r[0]=0\n",
        "  for j in range(1,n+1):\n",
        "    temp=-9999\n",
        "    for i in range(0,j):\n",
        "      temp=max(temp,p[i]+r[j-i-1])\n",
        "      r[j]=temp\n",
        "  return r[n]\n",
        "\n",
        "p=[1,5,8,9]  #price\n",
        "n=len(p)     #lengthof rod\n",
        "print(bottom_up_rod_cut(p,n))"
      ],
      "metadata": {
        "id": "KrAvGTwGYk3O",
        "colab": {
          "base_uri": "https://localhost:8080/"
        },
        "outputId": "00a62d11-c5c6-4d41-8f6b-8bb8e470ea63"
      },
      "execution_count": null,
      "outputs": [
        {
          "output_type": "stream",
          "name": "stdout",
          "text": [
            "10\n"
          ]
        }
      ]
    }
  ]
}