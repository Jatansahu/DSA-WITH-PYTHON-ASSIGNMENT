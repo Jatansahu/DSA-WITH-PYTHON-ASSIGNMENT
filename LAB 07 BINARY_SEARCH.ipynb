{
  "nbformat": 4,
  "nbformat_minor": 0,
  "metadata": {
    "colab": {
      "provenance": []
    },
    "kernelspec": {
      "name": "python3",
      "display_name": "Python 3"
    },
    "language_info": {
      "name": "python"
    }
  },
  "cells": [
    {
      "cell_type": "markdown",
      "source": [
        "**Assignment No. 7**\n",
        "\n",
        "**STUDENT ID-202218061**\n",
        "\n",
        "**NAME-JATAN SAHU**"
      ],
      "metadata": {
        "id": "ZedIr-f8pk3e"
      }
    },
    {
      "cell_type": "markdown",
      "source": [
        "Binary search tree implementation\n",
        "Implement the functionalities of the binary search tree. Insert, delete,\n",
        "traversal, finding minimum, finding maximum, finding successor."
      ],
      "metadata": {
        "id": "k0-tYR0SpgTB"
      }
    },
    {
      "cell_type": "code",
      "execution_count": null,
      "metadata": {
        "id": "p1dy5yuKpP3D"
      },
      "outputs": [],
      "source": [
        "class Node:\n",
        "  def __init__(self,data):\n",
        "    self.data=data\n",
        "    self.parent=None\n",
        "    self.left=None\n",
        "    self.right=None\n",
        "    \n",
        "#Inorder traversal\n",
        "def inorder_traversal(root):\n",
        "  if root:\n",
        "    #first recursion in left child \n",
        "    inorder_traversal(root.left)\n",
        "    #printing the data of node\n",
        "    print(root.data , end=\" \")\n",
        "    #now recursion on right \n",
        "    inorder_traversal(root.right)\n",
        "\n",
        "#postorder traversal\n",
        "def postorder_traversal(root):\n",
        "  if root!=None:\n",
        "    #recursion on left child\n",
        "    postorder_traversal(root.left)\n",
        "    #recurtion on right child \n",
        "    postorder_traversal(root.right)\n",
        "    #printing the data of node\n",
        "    print(root.data,end=\" \")\n",
        "\n",
        "#preorder traversal\n",
        "def preorder_traversal(root):\n",
        "  if root!=None:\n",
        "    #First print the data of node\n",
        "    print(root.data, end=\" \")\n",
        "    #Then recursion on the left child\n",
        "    preorder_traversal(root.left)\n",
        "    #then recursion on right child\n",
        "    preorder_traversal(root.right)\n",
        "\n",
        "\n",
        "\n",
        "def tree_insert(root,z):\n",
        "  y=None\n",
        "  x=root\n",
        "  while x!=None:\n",
        "    y=x\n",
        "    if z.data<x.data :\n",
        "      x=x.left\n",
        "    else:\n",
        "      x=x.right\n",
        "   \n",
        "  z.parent=y\n",
        "  if y==None :#tree empty\n",
        "      root=z #Only one root node is z\n",
        "  else:\n",
        "    if z.data<y.data:\n",
        "      y.left=z\n",
        "    else:\n",
        "      y.right=z   \n",
        "\n",
        "\n",
        "def tree_minimum(root):\n",
        "  while root.left!=None:\n",
        "    root=root.left\n",
        "  return root.data\n",
        "\n",
        "def tree_maximum(root):\n",
        "  while root.right!=None:\n",
        "    root=root.right\n",
        "  return root.data\n",
        "\n",
        "\n",
        "def tree_successor(x): #x-->we have to find the successor of x \n",
        "  if x.right !=None:\n",
        "    return tree_minimum(x.right)  #if x node's right child is not none then minimum value of xth right child is xth next value(successor)  \n",
        "  y=x.parent\n",
        "  while y!=None and x==y.right :\n",
        "    \n",
        "    x= y\n",
        "    y= y.parent\n",
        "  return y\n",
        "\n",
        "def tree_delete(root,data):\n",
        "  if root is None:\n",
        "    return root\n",
        "  if data<root.data:\n",
        "    root.left=tree_delete(root.left,data)\n",
        "\n",
        "  elif data>root.data:\n",
        "    root.right=tree_delete(root.right,data)\n",
        "\n",
        "  else:    # when root==data\n",
        "    if root.left is None :\n",
        "      temp=root.right\n",
        "      return temp\n",
        "\n",
        "    elif root.right is None:\n",
        "      temp=root.left\n",
        "      return temp\n",
        "\n",
        "    temp=tree_minimum(root.right)\n",
        "    root.data=(temp.data)\n",
        "    root.right=tree_delete(root.right,temp.data)\n",
        "  return root\n",
        "\n",
        "\n",
        "\n",
        "\n",
        "  "
      ]
    },
    {
      "cell_type": "code",
      "source": [
        "#initialization\n",
        "r=Node(50)\n",
        "tree_insert(r,Node(35))\n",
        "\n",
        "tree_insert(r,Node(69))\n",
        "\n",
        "tree_insert(r,Node(25))\n",
        "\n",
        "tree_insert(r,Node(45))\n",
        "\n",
        "tree_insert(r,Node(61))\n",
        "\n",
        "tree_insert(r,Node(75))\n",
        "\n",
        "tree_insert(r,Node(48))"
      ],
      "metadata": {
        "id": "GHK1WCOhJFls"
      },
      "execution_count": null,
      "outputs": []
    },
    {
      "cell_type": "code",
      "source": [
        "#Traversing\n",
        "inorder_traversal(r)"
      ],
      "metadata": {
        "colab": {
          "base_uri": "https://localhost:8080/"
        },
        "id": "ZND-AO_FKXgT",
        "outputId": "d4649701-a116-4d0c-9f7d-e3d6de6034a5"
      },
      "execution_count": null,
      "outputs": [
        {
          "output_type": "stream",
          "name": "stdout",
          "text": [
            "25 35 45 48 50 61 69 75 "
          ]
        }
      ]
    },
    {
      "cell_type": "code",
      "source": [
        "#Traversing\n",
        "preorder_traversal(r)"
      ],
      "metadata": {
        "colab": {
          "base_uri": "https://localhost:8080/"
        },
        "id": "VMTSRy5yKrox",
        "outputId": "6198148a-b6d2-4768-d4b1-48fb20aa3150"
      },
      "execution_count": null,
      "outputs": [
        {
          "output_type": "stream",
          "name": "stdout",
          "text": [
            "50 35 25 45 48 69 61 75 "
          ]
        }
      ]
    },
    {
      "cell_type": "code",
      "source": [
        "#Traversing\n",
        "postorder_traversal(r)"
      ],
      "metadata": {
        "colab": {
          "base_uri": "https://localhost:8080/"
        },
        "id": "fvR8gPktMFMZ",
        "outputId": "fdef6baf-d01c-4ed0-888b-edb79305f26f"
      },
      "execution_count": null,
      "outputs": [
        {
          "output_type": "stream",
          "name": "stdout",
          "text": [
            "25 48 45 35 61 75 69 50 "
          ]
        }
      ]
    },
    {
      "cell_type": "code",
      "source": [
        "print(tree_minimum(r))\n"
      ],
      "metadata": {
        "colab": {
          "base_uri": "https://localhost:8080/"
        },
        "id": "1rqbZYVAWA-4",
        "outputId": "39fce49f-0a81-4397-f1ba-f6fa0af5a88f"
      },
      "execution_count": null,
      "outputs": [
        {
          "output_type": "stream",
          "name": "stdout",
          "text": [
            "25\n"
          ]
        }
      ]
    },
    {
      "cell_type": "code",
      "source": [
        "print(tree_maximum(r))"
      ],
      "metadata": {
        "colab": {
          "base_uri": "https://localhost:8080/"
        },
        "id": "2vzxRXZzWKDS",
        "outputId": "75495ed4-b5e1-4861-c899-321a53bc4303"
      },
      "execution_count": null,
      "outputs": [
        {
          "output_type": "stream",
          "name": "stdout",
          "text": [
            "75\n"
          ]
        }
      ]
    },
    {
      "cell_type": "code",
      "source": [
        "tree_successor(r)  #successor of root node 50"
      ],
      "metadata": {
        "colab": {
          "base_uri": "https://localhost:8080/"
        },
        "id": "5lsb3HbuWlGc",
        "outputId": "e52c0166-3009-4e2f-99a4-715cc9bc3654"
      },
      "execution_count": null,
      "outputs": [
        {
          "output_type": "execute_result",
          "data": {
            "text/plain": [
              "61"
            ]
          },
          "metadata": {},
          "execution_count": 37
        }
      ]
    },
    {
      "cell_type": "code",
      "source": [
        "tree_delete(r,48)"
      ],
      "metadata": {
        "colab": {
          "base_uri": "https://localhost:8080/"
        },
        "id": "1cQkHgBGgGa9",
        "outputId": "902a85b9-7fac-4845-9bd4-7daaf0db0df5"
      },
      "execution_count": null,
      "outputs": [
        {
          "output_type": "execute_result",
          "data": {
            "text/plain": [
              "<__main__.Node at 0x7fe56e49e510>"
            ]
          },
          "metadata": {},
          "execution_count": 38
        }
      ]
    },
    {
      "cell_type": "code",
      "source": [
        "inorder_traversal(r)"
      ],
      "metadata": {
        "colab": {
          "base_uri": "https://localhost:8080/"
        },
        "id": "EIiZDjb6W9QR",
        "outputId": "e70a4117-5521-44f7-e3f4-454c79a83251"
      },
      "execution_count": null,
      "outputs": [
        {
          "output_type": "stream",
          "name": "stdout",
          "text": [
            "25 35 45 50 61 69 75 "
          ]
        }
      ]
    },
    {
      "cell_type": "code",
      "source": [],
      "metadata": {
        "id": "IWwyAr7xgcWo"
      },
      "execution_count": null,
      "outputs": []
    }
  ]
}