{
  "nbformat": 4,
  "nbformat_minor": 0,
  "metadata": {
    "colab": {
      "provenance": []
    },
    "kernelspec": {
      "name": "python3",
      "display_name": "Python 3"
    },
    "language_info": {
      "name": "python"
    }
  },
  "cells": [
    {
      "cell_type": "markdown",
      "source": [
        "**NAME - JATAN SAHU**\n",
        "<BR>**STUDENT ID- 202218061**\n",
        "<BR>**Assignment No. 6**\n",
        "<BR>**Heap Sort(MAX) and Priority Queue**"
      ],
      "metadata": {
        "id": "-GV5X1P071q4"
      }
    },
    {
      "cell_type": "code",
      "source": [
        "#function to get left child\n",
        "def Left(j):\n",
        "  return 2*j\n",
        "\n",
        "#function to get right child\n",
        "def Right(j):\n",
        "  return 2*j + 1\n",
        "\n",
        "#function to satisfy max-heap property from i to all its subtree\n",
        "def max_heapify(arr, n, i):\n",
        "  l = Left(i)\n",
        "  r = Right(i)\n",
        "  lar = i\n",
        "  if l <= n and arr[i] < arr[l]:\n",
        "    lar = l\n",
        "  \n",
        "  if r <= n and arr[lar] < arr[r]:\n",
        "    lar = r\n",
        "  \n",
        "  if lar != i:\n",
        "    arr[lar], arr[i] = arr[i], arr[lar]\n",
        "    max_heapify(arr, n, lar)"
      ],
      "metadata": {
        "id": "7uCNWHX0a-hB"
      },
      "execution_count": null,
      "outputs": []
    },
    {
      "cell_type": "code",
      "source": [
        "def build_max_heap(arr, n):\n",
        "    for i in range(n // 2, 0, -1):\n",
        "        max_heapify(arr, n-1, i)\n",
        "    \n",
        "    #created max-heap\n",
        "    print('Created Max-Heap:')\n",
        "    print(arr[1:n])"
      ],
      "metadata": {
        "id": "2Hdk9qcaP1gO"
      },
      "execution_count": null,
      "outputs": []
    },
    {
      "cell_type": "code",
      "source": [
        "def HeapSort(arr, n):\n",
        "\n",
        "    #Swaping the last root element with the last element and calling max-heapify at 1 \n",
        "    for i in range(n-1, 1, -1):\n",
        "        arr[i], arr[1] = arr[1], arr[i]\n",
        "        max_heapify(arr, i-1, 1)\n",
        "    \n",
        "    #Sorted Heap\n",
        "    print('Sorted Heap:')\n",
        "    print(arr[1:n])\n",
        "\n",
        "def HeapBuild_And_Sort(arr):\n",
        "    n = len(arr)\n",
        "\n",
        "    #creating max-heap\n",
        "    build_max_heap(arr, n)\n",
        "\n",
        "    #calling heapsort function\n",
        "    HeapSort(arr, n)\n",
        "\n",
        "\n",
        "lis = [2,4,1,7,3,9,6,14,11,5];\n",
        "print('Original List:')\n",
        "print(lis[1:len(lis)])\n",
        "HeapBuild_And_Sort(lis)"
      ],
      "metadata": {
        "colab": {
          "base_uri": "https://localhost:8080/"
        },
        "id": "X9HEbFHmP4oc",
        "outputId": "c6d2c9d2-9e19-49ab-992d-c9756f236819"
      },
      "execution_count": null,
      "outputs": [
        {
          "output_type": "stream",
          "name": "stdout",
          "text": [
            "Original List:\n",
            "[4, 1, 7, 3, 9, 6, 14, 11, 5]\n",
            "Created Max-Heap:\n",
            "[14, 11, 7, 5, 9, 6, 4, 3, 1]\n",
            "Sorted Heap:\n",
            "[1, 3, 4, 5, 6, 7, 9, 11, 14]\n"
          ]
        }
      ]
    }
  ]
}